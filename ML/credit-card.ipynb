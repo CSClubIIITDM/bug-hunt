{
 "cells": [
  {
   "cell_type": "markdown",
   "source": [
    "# Credit Card Applications\n",
    "**Predict if a credit card application gets accepted or not**"
   ],
   "metadata": {
    "collapsed": false
   }
  },
  {
   "cell_type": "code",
   "execution_count": 1,
   "metadata": {
    "collapsed": true
   },
   "outputs": [],
   "source": [
    "import pandas as pd"
   ]
  },
  {
   "cell_type": "markdown",
   "source": [
    "## Data"
   ],
   "metadata": {
    "collapsed": false
   }
  },
  {
   "cell_type": "code",
   "execution_count": 8,
   "outputs": [
    {
     "data": {
      "text/plain": "     card  reports       age  income     share  expenditure owner selfemp  \\\n0     yes        0  37.66667  4.5200  0.033270   124.983300   yes      no   \n1     yes        0  33.25000  2.4200  0.005217     9.854167    no      no   \n2     yes        0  33.66667  4.5000  0.004156    15.000000   yes      no   \n3     yes        0  30.50000  2.5400  0.065214   137.869200    no      no   \n4     yes        0  32.16667  9.7867  0.067051   546.503300   yes      no   \n...   ...      ...       ...     ...       ...          ...   ...     ...   \n1314  yes        0  33.58333  4.5660  0.002146     7.333333   yes      no   \n1315   no        5  23.91667  3.1920  0.000376     0.000000    no      no   \n1316  yes        0  40.58333  4.6000  0.026513   101.298300   yes      no   \n1317  yes        0  32.83333  3.7000  0.008999    26.996670    no     yes   \n1318  yes        0  48.25000  3.7000  0.111619   344.157500   yes      no   \n\n      dependents  months  majorcards  active  \n0              3      54           1      12  \n1              3      34           1      13  \n2              4      58           1       5  \n3              0      25           1       7  \n4              2      64           1       5  \n...          ...     ...         ...     ...  \n1314           0      94           1      19  \n1315           3      12           1       5  \n1316           2       1           1       2  \n1317           0      60           1       7  \n1318           2       2           1       0  \n\n[1319 rows x 12 columns]",
      "text/html": "<div>\n<style scoped>\n    .dataframe tbody tr th:only-of-type {\n        vertical-align: middle;\n    }\n\n    .dataframe tbody tr th {\n        vertical-align: top;\n    }\n\n    .dataframe thead th {\n        text-align: right;\n    }\n</style>\n<table border=\"1\" class=\"dataframe\">\n  <thead>\n    <tr style=\"text-align: right;\">\n      <th></th>\n      <th>card</th>\n      <th>reports</th>\n      <th>age</th>\n      <th>income</th>\n      <th>share</th>\n      <th>expenditure</th>\n      <th>owner</th>\n      <th>selfemp</th>\n      <th>dependents</th>\n      <th>months</th>\n      <th>majorcards</th>\n      <th>active</th>\n    </tr>\n  </thead>\n  <tbody>\n    <tr>\n      <th>0</th>\n      <td>yes</td>\n      <td>0</td>\n      <td>37.66667</td>\n      <td>4.5200</td>\n      <td>0.033270</td>\n      <td>124.983300</td>\n      <td>yes</td>\n      <td>no</td>\n      <td>3</td>\n      <td>54</td>\n      <td>1</td>\n      <td>12</td>\n    </tr>\n    <tr>\n      <th>1</th>\n      <td>yes</td>\n      <td>0</td>\n      <td>33.25000</td>\n      <td>2.4200</td>\n      <td>0.005217</td>\n      <td>9.854167</td>\n      <td>no</td>\n      <td>no</td>\n      <td>3</td>\n      <td>34</td>\n      <td>1</td>\n      <td>13</td>\n    </tr>\n    <tr>\n      <th>2</th>\n      <td>yes</td>\n      <td>0</td>\n      <td>33.66667</td>\n      <td>4.5000</td>\n      <td>0.004156</td>\n      <td>15.000000</td>\n      <td>yes</td>\n      <td>no</td>\n      <td>4</td>\n      <td>58</td>\n      <td>1</td>\n      <td>5</td>\n    </tr>\n    <tr>\n      <th>3</th>\n      <td>yes</td>\n      <td>0</td>\n      <td>30.50000</td>\n      <td>2.5400</td>\n      <td>0.065214</td>\n      <td>137.869200</td>\n      <td>no</td>\n      <td>no</td>\n      <td>0</td>\n      <td>25</td>\n      <td>1</td>\n      <td>7</td>\n    </tr>\n    <tr>\n      <th>4</th>\n      <td>yes</td>\n      <td>0</td>\n      <td>32.16667</td>\n      <td>9.7867</td>\n      <td>0.067051</td>\n      <td>546.503300</td>\n      <td>yes</td>\n      <td>no</td>\n      <td>2</td>\n      <td>64</td>\n      <td>1</td>\n      <td>5</td>\n    </tr>\n    <tr>\n      <th>...</th>\n      <td>...</td>\n      <td>...</td>\n      <td>...</td>\n      <td>...</td>\n      <td>...</td>\n      <td>...</td>\n      <td>...</td>\n      <td>...</td>\n      <td>...</td>\n      <td>...</td>\n      <td>...</td>\n      <td>...</td>\n    </tr>\n    <tr>\n      <th>1314</th>\n      <td>yes</td>\n      <td>0</td>\n      <td>33.58333</td>\n      <td>4.5660</td>\n      <td>0.002146</td>\n      <td>7.333333</td>\n      <td>yes</td>\n      <td>no</td>\n      <td>0</td>\n      <td>94</td>\n      <td>1</td>\n      <td>19</td>\n    </tr>\n    <tr>\n      <th>1315</th>\n      <td>no</td>\n      <td>5</td>\n      <td>23.91667</td>\n      <td>3.1920</td>\n      <td>0.000376</td>\n      <td>0.000000</td>\n      <td>no</td>\n      <td>no</td>\n      <td>3</td>\n      <td>12</td>\n      <td>1</td>\n      <td>5</td>\n    </tr>\n    <tr>\n      <th>1316</th>\n      <td>yes</td>\n      <td>0</td>\n      <td>40.58333</td>\n      <td>4.6000</td>\n      <td>0.026513</td>\n      <td>101.298300</td>\n      <td>yes</td>\n      <td>no</td>\n      <td>2</td>\n      <td>1</td>\n      <td>1</td>\n      <td>2</td>\n    </tr>\n    <tr>\n      <th>1317</th>\n      <td>yes</td>\n      <td>0</td>\n      <td>32.83333</td>\n      <td>3.7000</td>\n      <td>0.008999</td>\n      <td>26.996670</td>\n      <td>no</td>\n      <td>yes</td>\n      <td>0</td>\n      <td>60</td>\n      <td>1</td>\n      <td>7</td>\n    </tr>\n    <tr>\n      <th>1318</th>\n      <td>yes</td>\n      <td>0</td>\n      <td>48.25000</td>\n      <td>3.7000</td>\n      <td>0.111619</td>\n      <td>344.157500</td>\n      <td>yes</td>\n      <td>no</td>\n      <td>2</td>\n      <td>2</td>\n      <td>1</td>\n      <td>0</td>\n    </tr>\n  </tbody>\n</table>\n<p>1319 rows × 12 columns</p>\n</div>"
     },
     "execution_count": 8,
     "metadata": {},
     "output_type": "execute_result"
    }
   ],
   "source": [
    "data = pd.read_csv('data/credit-card-data.csv')\n",
    "data"
   ],
   "metadata": {
    "collapsed": false
   }
  },
  {
   "cell_type": "code",
   "execution_count": 3,
   "outputs": [
    {
     "name": "stdout",
     "output_type": "stream",
     "text": [
      "Total entries: 1319\n"
     ]
    }
   ],
   "source": [
    "print(\"Total entries:\", len(data))"
   ],
   "metadata": {
    "collapsed": false
   }
  },
  {
   "cell_type": "markdown",
   "source": [
    "### Summary of Data\n",
    "- **`card`**: \"_yes_\" if credit card application accepted, \"_no_\" if not\n",
    "- **`reports`**: Number of major derogatory reports\n",
    "- **`age`**: Age n years plus twelfths of a year\n",
    "- **`income`**: Yearly income (divided by 10,000)\n",
    "- **`share`**: Ratio of monthly credit card expenditure to yearly income\n",
    "- **`expenditure`**: Average monthly credit card expenditure\n",
    "- **`owner`**: \"_yes_\" if owns home, \"_no_\" if rents\n",
    "- **`selfemp`**: \"_yes_\" if self-employed, \"_no_\" if not\n",
    "- **`dependents`**: 1 + number of dependents\n",
    "- **`months`**: Months living at current address\n",
    "- **`majorcards`**: Number of major credit cards held\n",
    "- **`active`**: Number of active credit accounts"
   ],
   "metadata": {
    "collapsed": false
   }
  },
  {
   "cell_type": "code",
   "execution_count": 9,
   "outputs": [],
   "source": [
    "column_list = ['card', 'owner', 'selfemp']\n",
    "for col in column_list:\n",
    "    data[col] = data[col].replace({\"yes\": True, \"no\": False})"
   ],
   "metadata": {
    "collapsed": false
   }
  },
  {
   "cell_type": "markdown",
   "source": [
    "## Model"
   ],
   "metadata": {
    "collapsed": false
   }
  },
  {
   "cell_type": "code",
   "execution_count": 10,
   "outputs": [
    {
     "data": {
      "text/plain": "   reports       age  income     share  expenditure  owner  selfemp  \\\n0        0  37.66667  4.5200  0.033270   124.983300   True    False   \n1        0  33.25000  2.4200  0.005217     9.854167  False    False   \n2        0  33.66667  4.5000  0.004156    15.000000   True    False   \n3        0  30.50000  2.5400  0.065214   137.869200  False    False   \n4        0  32.16667  9.7867  0.067051   546.503300   True    False   \n\n   dependents  months  majorcards  active  \n0           3      54           1      12  \n1           3      34           1      13  \n2           4      58           1       5  \n3           0      25           1       7  \n4           2      64           1       5  ",
      "text/html": "<div>\n<style scoped>\n    .dataframe tbody tr th:only-of-type {\n        vertical-align: middle;\n    }\n\n    .dataframe tbody tr th {\n        vertical-align: top;\n    }\n\n    .dataframe thead th {\n        text-align: right;\n    }\n</style>\n<table border=\"1\" class=\"dataframe\">\n  <thead>\n    <tr style=\"text-align: right;\">\n      <th></th>\n      <th>reports</th>\n      <th>age</th>\n      <th>income</th>\n      <th>share</th>\n      <th>expenditure</th>\n      <th>owner</th>\n      <th>selfemp</th>\n      <th>dependents</th>\n      <th>months</th>\n      <th>majorcards</th>\n      <th>active</th>\n    </tr>\n  </thead>\n  <tbody>\n    <tr>\n      <th>0</th>\n      <td>0</td>\n      <td>37.66667</td>\n      <td>4.5200</td>\n      <td>0.033270</td>\n      <td>124.983300</td>\n      <td>True</td>\n      <td>False</td>\n      <td>3</td>\n      <td>54</td>\n      <td>1</td>\n      <td>12</td>\n    </tr>\n    <tr>\n      <th>1</th>\n      <td>0</td>\n      <td>33.25000</td>\n      <td>2.4200</td>\n      <td>0.005217</td>\n      <td>9.854167</td>\n      <td>False</td>\n      <td>False</td>\n      <td>3</td>\n      <td>34</td>\n      <td>1</td>\n      <td>13</td>\n    </tr>\n    <tr>\n      <th>2</th>\n      <td>0</td>\n      <td>33.66667</td>\n      <td>4.5000</td>\n      <td>0.004156</td>\n      <td>15.000000</td>\n      <td>True</td>\n      <td>False</td>\n      <td>4</td>\n      <td>58</td>\n      <td>1</td>\n      <td>5</td>\n    </tr>\n    <tr>\n      <th>3</th>\n      <td>0</td>\n      <td>30.50000</td>\n      <td>2.5400</td>\n      <td>0.065214</td>\n      <td>137.869200</td>\n      <td>False</td>\n      <td>False</td>\n      <td>0</td>\n      <td>25</td>\n      <td>1</td>\n      <td>7</td>\n    </tr>\n    <tr>\n      <th>4</th>\n      <td>0</td>\n      <td>32.16667</td>\n      <td>9.7867</td>\n      <td>0.067051</td>\n      <td>546.503300</td>\n      <td>True</td>\n      <td>False</td>\n      <td>2</td>\n      <td>64</td>\n      <td>1</td>\n      <td>5</td>\n    </tr>\n  </tbody>\n</table>\n</div>"
     },
     "execution_count": 10,
     "metadata": {},
     "output_type": "execute_result"
    }
   ],
   "source": [
    "y = data.card\n",
    "X = data.drop('card', axis=1)\n",
    "X.head()"
   ],
   "metadata": {
    "collapsed": false
   }
  },
  {
   "cell_type": "code",
   "execution_count": 11,
   "outputs": [
    {
     "name": "stdout",
     "output_type": "stream",
     "text": [
      "Cross-validation accuracy: 0.9802886277220878\n"
     ]
    }
   ],
   "source": [
    "from sklearn.pipeline import make_pipeline\n",
    "from sklearn.ensemble import RandomForestClassifier\n",
    "from sklearn.model_selection import cross_val_score\n",
    "\n",
    "my_pipeline = make_pipeline(RandomForestClassifier(n_estimators=100))\n",
    "cv_scores = cross_val_score(my_pipeline, X, y, cv=5, scoring='accuracy')\n",
    "\n",
    "print(f\"Cross-validation accuracy: {cv_scores.mean()}\")"
   ],
   "metadata": {
    "collapsed": false
   }
  }
 ],
 "metadata": {
  "kernelspec": {
   "display_name": "Python 3",
   "language": "python",
   "name": "python3"
  },
  "language_info": {
   "codemirror_mode": {
    "name": "ipython",
    "version": 2
   },
   "file_extension": ".py",
   "mimetype": "text/x-python",
   "name": "python",
   "nbconvert_exporter": "python",
   "pygments_lexer": "ipython2",
   "version": "2.7.6"
  }
 },
 "nbformat": 4,
 "nbformat_minor": 0
}
