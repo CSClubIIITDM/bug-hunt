{
 "cells": [
  {
   "cell_type": "markdown",
   "source": [
    "# Glass Identification\n",
    "**Identifying the type of glass based on its chemical properties**"
   ],
   "metadata": {
    "collapsed": false
   }
  },
  {
   "cell_type": "code",
   "execution_count": 651,
   "metadata": {
    "collapsed": true
   },
   "outputs": [],
   "source": [
    "import pandas as pd\n",
    "import numpy as np\n",
    "import matplotlib.pyplot as plt\n",
    "%matplotlib inline"
   ]
  },
  {
   "cell_type": "markdown",
   "source": [
    "## Data\n",
    "\n",
    "**Attribute Information:**\n",
    "1. RI: refractive index\n",
    "2. Na: Sodium (unit measurement: weight percent in corresponding oxide, as are attributes 4-10)\n",
    "3. Mg: Magnesium\n",
    "4. Al: Aluminum\n",
    "5. Si: Silicon\n",
    "6. K: Potassium\n",
    "7. Ca: Calcium\n",
    "8. Ba: Barium\n",
    "9. Fe: Iron\n",
    "10. Type of glass: (class attribute)\n",
    "-- 1: building_windows_float_processed\n",
    "-- 2: building_windows_non_float_processed\n",
    "-- 3: vehicle_windows_float_processed\n",
    "-- 4: vehicle_windows_non_float_processed (none in this database)\n",
    "-- 5: containers\n",
    "-- 6: tableware\n",
    "-- 7: headlamps\n"
   ],
   "metadata": {
    "collapsed": false
   }
  },
  {
   "cell_type": "code",
   "execution_count": 652,
   "outputs": [
    {
     "data": {
      "text/plain": "          RI     Na    Mg    Al     Si     K    Ca    Ba   Fe  Type\n0    1.52101  13.64  4.49  1.10  71.78  0.06  8.75  0.00  0.0     1\n1    1.51761  13.89  3.60  1.36  72.73  0.48  7.83  0.00  0.0     1\n2    1.51618  13.53  3.55  1.54  72.99  0.39  7.78  0.00  0.0     1\n3    1.51766  13.21  3.69  1.29  72.61  0.57  8.22  0.00  0.0     1\n4    1.51742  13.27  3.62  1.24  73.08  0.55  8.07  0.00  0.0     1\n..       ...    ...   ...   ...    ...   ...   ...   ...  ...   ...\n209  1.51623  14.14  0.00  2.88  72.61  0.08  9.18  1.06  0.0     7\n210  1.51685  14.92  0.00  1.99  73.06  0.00  8.40  1.59  0.0     7\n211  1.52065  14.36  0.00  2.02  73.42  0.00  8.44  1.64  0.0     7\n212  1.51651  14.38  0.00  1.94  73.61  0.00  8.48  1.57  0.0     7\n213  1.51711  14.23  0.00  2.08  73.36  0.00  8.62  1.67  0.0     7\n\n[214 rows x 10 columns]",
      "text/html": "<div>\n<style scoped>\n    .dataframe tbody tr th:only-of-type {\n        vertical-align: middle;\n    }\n\n    .dataframe tbody tr th {\n        vertical-align: top;\n    }\n\n    .dataframe thead th {\n        text-align: right;\n    }\n</style>\n<table border=\"1\" class=\"dataframe\">\n  <thead>\n    <tr style=\"text-align: right;\">\n      <th></th>\n      <th>RI</th>\n      <th>Na</th>\n      <th>Mg</th>\n      <th>Al</th>\n      <th>Si</th>\n      <th>K</th>\n      <th>Ca</th>\n      <th>Ba</th>\n      <th>Fe</th>\n      <th>Type</th>\n    </tr>\n  </thead>\n  <tbody>\n    <tr>\n      <th>0</th>\n      <td>1.52101</td>\n      <td>13.64</td>\n      <td>4.49</td>\n      <td>1.10</td>\n      <td>71.78</td>\n      <td>0.06</td>\n      <td>8.75</td>\n      <td>0.00</td>\n      <td>0.0</td>\n      <td>1</td>\n    </tr>\n    <tr>\n      <th>1</th>\n      <td>1.51761</td>\n      <td>13.89</td>\n      <td>3.60</td>\n      <td>1.36</td>\n      <td>72.73</td>\n      <td>0.48</td>\n      <td>7.83</td>\n      <td>0.00</td>\n      <td>0.0</td>\n      <td>1</td>\n    </tr>\n    <tr>\n      <th>2</th>\n      <td>1.51618</td>\n      <td>13.53</td>\n      <td>3.55</td>\n      <td>1.54</td>\n      <td>72.99</td>\n      <td>0.39</td>\n      <td>7.78</td>\n      <td>0.00</td>\n      <td>0.0</td>\n      <td>1</td>\n    </tr>\n    <tr>\n      <th>3</th>\n      <td>1.51766</td>\n      <td>13.21</td>\n      <td>3.69</td>\n      <td>1.29</td>\n      <td>72.61</td>\n      <td>0.57</td>\n      <td>8.22</td>\n      <td>0.00</td>\n      <td>0.0</td>\n      <td>1</td>\n    </tr>\n    <tr>\n      <th>4</th>\n      <td>1.51742</td>\n      <td>13.27</td>\n      <td>3.62</td>\n      <td>1.24</td>\n      <td>73.08</td>\n      <td>0.55</td>\n      <td>8.07</td>\n      <td>0.00</td>\n      <td>0.0</td>\n      <td>1</td>\n    </tr>\n    <tr>\n      <th>...</th>\n      <td>...</td>\n      <td>...</td>\n      <td>...</td>\n      <td>...</td>\n      <td>...</td>\n      <td>...</td>\n      <td>...</td>\n      <td>...</td>\n      <td>...</td>\n      <td>...</td>\n    </tr>\n    <tr>\n      <th>209</th>\n      <td>1.51623</td>\n      <td>14.14</td>\n      <td>0.00</td>\n      <td>2.88</td>\n      <td>72.61</td>\n      <td>0.08</td>\n      <td>9.18</td>\n      <td>1.06</td>\n      <td>0.0</td>\n      <td>7</td>\n    </tr>\n    <tr>\n      <th>210</th>\n      <td>1.51685</td>\n      <td>14.92</td>\n      <td>0.00</td>\n      <td>1.99</td>\n      <td>73.06</td>\n      <td>0.00</td>\n      <td>8.40</td>\n      <td>1.59</td>\n      <td>0.0</td>\n      <td>7</td>\n    </tr>\n    <tr>\n      <th>211</th>\n      <td>1.52065</td>\n      <td>14.36</td>\n      <td>0.00</td>\n      <td>2.02</td>\n      <td>73.42</td>\n      <td>0.00</td>\n      <td>8.44</td>\n      <td>1.64</td>\n      <td>0.0</td>\n      <td>7</td>\n    </tr>\n    <tr>\n      <th>212</th>\n      <td>1.51651</td>\n      <td>14.38</td>\n      <td>0.00</td>\n      <td>1.94</td>\n      <td>73.61</td>\n      <td>0.00</td>\n      <td>8.48</td>\n      <td>1.57</td>\n      <td>0.0</td>\n      <td>7</td>\n    </tr>\n    <tr>\n      <th>213</th>\n      <td>1.51711</td>\n      <td>14.23</td>\n      <td>0.00</td>\n      <td>2.08</td>\n      <td>73.36</td>\n      <td>0.00</td>\n      <td>8.62</td>\n      <td>1.67</td>\n      <td>0.0</td>\n      <td>7</td>\n    </tr>\n  </tbody>\n</table>\n<p>214 rows × 10 columns</p>\n</div>"
     },
     "execution_count": 652,
     "metadata": {},
     "output_type": "execute_result"
    }
   ],
   "source": [
    "data = pd.read_csv(\"data/glass-data.csv\")\n",
    "data"
   ],
   "metadata": {
    "collapsed": false
   }
  },
  {
   "cell_type": "code",
   "execution_count": 653,
   "outputs": [
    {
     "name": "stdout",
     "output_type": "stream",
     "text": [
      "Total data entries: 214\n"
     ]
    }
   ],
   "source": [
    "print(f\"Total data entries: {len(data)}\")"
   ],
   "metadata": {
    "collapsed": false
   }
  },
  {
   "cell_type": "markdown",
   "source": [
    "## Model"
   ],
   "metadata": {
    "collapsed": false
   }
  },
  {
   "cell_type": "code",
   "execution_count": 654,
   "outputs": [],
   "source": [
    "from sklearn.impute import SimpleImputer\n",
    "\n",
    "data = data.replace(0, np.nan)\n",
    "imputer = SimpleImputer(missing_values=np.nan, strategy='mean')\n",
    "data_imputed = imputer.fit_transform(data)"
   ],
   "metadata": {
    "collapsed": false
   }
  },
  {
   "cell_type": "code",
   "execution_count": 655,
   "outputs": [],
   "source": [
    "from sklearn.model_selection import train_test_split\n",
    "\n",
    "X_train, X_test, y_train, y_test = train_test_split(data_imputed, data[\"Type\"], test_size=0.2)"
   ],
   "metadata": {
    "collapsed": false
   }
  },
  {
   "cell_type": "code",
   "execution_count": 656,
   "outputs": [],
   "source": [
    "from sklearn.linear_model import LogisticRegression\n",
    "\n",
    "clf = LogisticRegression(max_iter=2000)\n",
    "clf.fit(X_train, y_train)\n",
    "y_pred = clf.predict(X_test)"
   ],
   "metadata": {
    "collapsed": false
   }
  },
  {
   "cell_type": "markdown",
   "source": [
    "## Performance"
   ],
   "metadata": {
    "collapsed": false
   }
  },
  {
   "cell_type": "code",
   "execution_count": 657,
   "outputs": [
    {
     "data": {
      "text/plain": "<Figure size 2000x600 with 2 Axes>",
      "image/png": "[encoded data removed]"
     },
     "metadata": {},
     "output_type": "display_data"
    }
   ],
   "source": [
    "plt.figure(figsize=(20, 6))\n",
    "\n",
    "plt.subplot(1, 2, 1)\n",
    "pd.value_counts(y_test, sort=True).plot.bar()\n",
    "plt.xlabel(\"Type: Actual\", fontsize=16)\n",
    "\n",
    "plt.subplot(1, 2, 2)\n",
    "pd.value_counts(y_pred, sort=True).plot.bar()\n",
    "plt.xlabel(\"Type: Predicted\", fontsize=16)\n",
    "\n",
    "plt.show()"
   ],
   "metadata": {
    "collapsed": false
   }
  },
  {
   "cell_type": "code",
   "execution_count": 658,
   "outputs": [
    {
     "name": "stdout",
     "output_type": "stream",
     "text": [
      "Accuracy:  0.8372093023255814\n"
     ]
    }
   ],
   "source": [
    "from sklearn.metrics import accuracy_score\n",
    "\n",
    "accuracy = accuracy_score(y_test, y_pred)\n",
    "print(\"Accuracy: \", accuracy)"
   ],
   "metadata": {
    "collapsed": false
   }
  }
 ],
 "metadata": {
  "kernelspec": {
   "display_name": "Python 3",
   "language": "python",
   "name": "python3"
  },
  "language_info": {
   "codemirror_mode": {
    "name": "ipython",
    "version": 2
   },
   "file_extension": ".py",
   "mimetype": "text/x-python",
   "name": "python",
   "nbconvert_exporter": "python",
   "pygments_lexer": "ipython2",
   "version": "2.7.6"
  }
 },
 "nbformat": 4,
 "nbformat_minor": 0
}
